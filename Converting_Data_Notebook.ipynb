{
 "cells": [
  {
   "cell_type": "markdown",
   "id": "30ced238",
   "metadata": {},
   "source": [
    "# Exporting NBA Data to a SQL file\n",
    "\n",
    "This project can be found on GitHub: \n",
    "https://github.com/LiamWhitenack/CDS302FinalProject\n",
    "\n",
    "NBA data (in the correct format) can be downloaded at this link:\n",
    "https://www.advancedsportsanalytics.com/nba-raw-data"
   ]
  },
  {
   "cell_type": "code",
   "execution_count": 1,
   "id": "9dbf32d6",
   "metadata": {},
   "outputs": [],
   "source": [
    "import pandas as pd # for data wrangling and storage\n",
    "import numpy as np # for data wrangling\n",
    "import sqlite3 as sql # for connecting to a SQL server\n",
    "import os # for deleting a file if it has already been made\n",
    "import seaborn as sns # for visualizations\n",
    "import matplotlib.pyplot as plt\n",
    "\n",
    "if os.path.exists('nba.db'):  # If you wish to make a new file, automatically delete the old one\n",
    "    os.remove(\"nba.db\")\n",
    "\n",
    "nba = pd.read_csv('https://raw.githubusercontent.com/LiamWhitenack/CDS302FinalProject/main/Final_Project_NBA_data.csv')\n",
    "# download the data from github\n",
    "\n",
    "def df_to_list(df):\n",
    "    rows = []\n",
    "    for index, row in df.iterrows():\n",
    "        rows.append(row)\n",
    "    return rows\n",
    "# this function will turn a pd dataframe into a simple list"
   ]
  },
  {
   "cell_type": "code",
   "execution_count": 20,
   "id": "2ca558b5",
   "metadata": {},
   "outputs": [],
   "source": [
    "cnn = sql.connect('nba.db')\n",
    "cursor = cnn.cursor()\n",
    "# create a SQL connection"
   ]
  },
  {
   "cell_type": "markdown",
   "id": "0016e7ad",
   "metadata": {},
   "source": [
    "### Create entity tables in SQL\n",
    "\n",
    "This following code block will create three different datasets: player, game, and team. These three datasets are all subsets of the entire .csv file"
   ]
  },
  {
   "cell_type": "code",
   "execution_count": 2,
   "id": "19f58a64",
   "metadata": {},
   "outputs": [
    {
     "data": {
      "text/plain": [
       "<sqlite3.Cursor at 0x1ccecf0ee30>"
      ]
     },
     "execution_count": 2,
     "metadata": {},
     "output_type": "execute_result"
    }
   ],
   "source": [
    "cursor.execute('''CREATE TABLE IF NOT EXISTS Game\n",
    "              (game_id CHAR(12) PRIMARY KEY, \n",
    "              game_date DATE,\n",
    "              winner CHAR(3),\n",
    "              score VARCHAR(10),\n",
    "              OT INT(10), \n",
    "              home CHAR(3), \n",
    "              away CHAR(3),\n",
    "              season INT(2050)\n",
    "              )''')\n",
    "\n",
    "cursor.execute('''CREATE TABLE IF NOT EXISTS Team\n",
    "              (Team_Abbrev CHAR(5) NOT NULL,\n",
    "              game_id CHAR(12) NOT NULL,\n",
    "              win BINARY,\n",
    "              Team_Score INT(200), \n",
    "              Team_pace FLOAT(0), \n",
    "              Team_efg_pct FLOAT(0), \n",
    "              Team_tov_pct FLOAT(0), \n",
    "              Team_orb_pct FLOAT(0), \n",
    "              Team_ft_rate FLOAT(0), \n",
    "              Team_off_rtg FLOAT(0), \n",
    "              Inactives FLOAT(0), \n",
    "              Opponent_Abbrev CHAR(3), \n",
    "              Opponent_Score INT(200), \n",
    "              Opponent_pace FLOAT(0), \n",
    "              Opponent_efg_pct FLOAT(0), \n",
    "              Opponent_tov_pct FLOAT(0), \n",
    "              Opponent_orb_pct FLOAT(0), \n",
    "              Opponent_ft_rate FLOAT(0), \n",
    "              Opponent_off_rtg FLOAT(0),\n",
    "              season INT(2050),\n",
    "              CONSTRAINT primary_key_name PRIMARY KEY (Team_Abbrev, game_id)\n",
    "              )''')\n",
    "\n",
    "cursor.execute('''CREATE TABLE IF NOT EXISTS Player\n",
    "              (player_name VARCHAR(255),\n",
    "              player_id CHAR(9) NOT NULL,\n",
    "              game_id CHAR(12) NOT NULL,\n",
    "              starter BINARY, \n",
    "              mp INT(60), \n",
    "              fg INT(100), \n",
    "              fga INT(100), \n",
    "              fg_pct FLOAT(0), \n",
    "              fg3 INT(60), \n",
    "              fg3a INT(60), \n",
    "              fg3_pct FLOAT(0), \n",
    "              ft INT(60), \n",
    "              fta INT(60), \n",
    "              ft_pct FLOAT(0), \n",
    "              orb INT(60), \n",
    "              drb INT(60), \n",
    "              trb INT(60), \n",
    "              ast INT(60), \n",
    "              stl INT(60), \n",
    "              blk INT(60), \n",
    "              tov INT(60), \n",
    "              pf INT(60), \n",
    "              pts INT(200), \n",
    "              plus_minus INT(60), \n",
    "              did_not_play BINARY, \n",
    "              is_inactive BINARY, \n",
    "              ts_pct FLOAT(0), \n",
    "              efg_pct FLOAT(0), \n",
    "              fg3a_per_fga_pct FLOAT(0), \n",
    "              fta_per_fga_pct FLOAT(0), \n",
    "              orb_pct FLOAT(0), \n",
    "              drb_pct FLOAT(0), \n",
    "              trb_pct FLOAT(0), \n",
    "              ast_pct FLOAT(0), \n",
    "              stl_pct FLOAT(0), \n",
    "              blk_pct FLOAT(0), \n",
    "              tov_pct FLOAT(0), \n",
    "              usg_pct FLOAT(0), \n",
    "              off_rtg FLOAT(0), \n",
    "              def_rtg FLOAT(0), \n",
    "              bpm FLOAT(0), \n",
    "              minutes  FLOAT(0), \n",
    "              double_double BINARY, \n",
    "              triple_double BINARY, \n",
    "              DKP  FLOAT(0), \n",
    "              FDP FLOAT(0), \n",
    "              SDP FLOAT(0), \n",
    "              DKP_per_minute FLOAT(0), \n",
    "              FDP_per_minute FLOAT(0), \n",
    "              SDP_per_minute FLOAT(0), \n",
    "              pf_per_minute FLOAT(0), \n",
    "              ts FLOAT(0), \n",
    "              last_60_minutes_per_game_starting FLOAT(0), \n",
    "              last_60_minutes_per_game_bench FLOAT(0), \n",
    "              PG_pct FLOAT(0), \n",
    "              SG_pct FLOAT(0), \n",
    "              SF_pct FLOAT(0), \n",
    "              PF_pct FLOAT(0), \n",
    "              C_pct FLOAT(0), \n",
    "              active_position_minutes FLOAT(0),\n",
    "              season INT(2050),\n",
    "              CONSTRAINT primary_key_name PRIMARY KEY (player_id, game_id)\n",
    "              )''')\n"
   ]
  },
  {
   "cell_type": "markdown",
   "id": "caf5c963",
   "metadata": {},
   "source": [
    "## Create Relationship Table in SQL\n",
    "\n",
    "Making relationship tables is much easier since two of the entities are weak entities anyway. Only one relationship set must be made: the relationship that connects players to teams."
   ]
  },
  {
   "cell_type": "code",
   "execution_count": 3,
   "id": "c7eb9e01",
   "metadata": {},
   "outputs": [
    {
     "data": {
      "text/plain": [
       "<sqlite3.Cursor at 0x1ccecf0ee30>"
      ]
     },
     "execution_count": 3,
     "metadata": {},
     "output_type": "execute_result"
    }
   ],
   "source": [
    "\n",
    "cursor.execute('''CREATE TABLE IF NOT EXISTS plays_for\n",
    "              (player_id CHAR(12) NOT NULL,\n",
    "              Team_Abbrev CHAR(9) NOT NULL,\n",
    "              season INT(2050),\n",
    "              CONSTRAINT primary_key_name PRIMARY KEY (Team_Abbrev, player_id)\n",
    "              )''')"
   ]
  },
  {
   "cell_type": "markdown",
   "id": "40764214",
   "metadata": {},
   "source": [
    "### Wrangle Game Data\n",
    "\n",
    "The individual game data was the trickiest to minimize into necessary information and certain columns were added"
   ]
  },
  {
   "cell_type": "code",
   "execution_count": 4,
   "id": "893601a1",
   "metadata": {},
   "outputs": [],
   "source": [
    "# Select important columns\n",
    "game = nba[['game_id', 'game_date', 'OT', 'H_A', 'Team_Abbrev', 'Team_Score', 'Opponent_Abbrev', 'Opponent_Score', 'season']]\n",
    "\n",
    "# get rid of all away games\n",
    "game = game.drop(game[game.H_A == 'A'].index)\n",
    "\n",
    "# calculate the winner of each game\n",
    "game['winner'] = np.where(game.Opponent_Score < game.Team_Score, game.Opponent_Abbrev, game.Team_Abbrev)\n",
    "\n",
    "# remove all duplicate games\n",
    "game = game.drop_duplicates(subset = ['game_id'])\n",
    "\n",
    "# sort by the game date\n",
    "game = game.sort_values(by = 'game_date')\n",
    "\n",
    "# Create a new column, the final score\n",
    "game[\"score\"] = game[\"Team_Score\"].astype(str) + '-' + game[\"Opponent_Score\"].astype(str)\n",
    "\n",
    "# select the necessary columns and organize them\n",
    "game = game[['game_id', 'game_date', 'winner', 'score', 'OT', 'Team_Abbrev', 'Opponent_Abbrev', 'season']]"
   ]
  },
  {
   "cell_type": "markdown",
   "id": "6f1e2d21",
   "metadata": {},
   "source": [
    "### Wrangle Team Data\n",
    "\n",
    "The team data in this code chunk is not calculated for an individual team, but for a team at a certain game. For this reason, both the team name and the game id are both considered primary keys."
   ]
  },
  {
   "cell_type": "code",
   "execution_count": 5,
   "id": "3c9badc9",
   "metadata": {},
   "outputs": [],
   "source": [
    "team = nba\n",
    "\n",
    "team['win'] = np.where(team.Opponent_Score < team.Team_Score, 1, 0)\n",
    "\n",
    "team = team[['Team_Abbrev','game_id','win','Team_Score','Team_pace','Team_efg_pct','Team_tov_pct','Team_orb_pct','Team_ft_rate','Team_off_rtg','Inactives','Opponent_Abbrev','Opponent_Score','Opponent_pace','Opponent_efg_pct','Opponent_tov_pct','Opponent_orb_pct','Opponent_ft_rate','Opponent_off_rtg','season']]\n",
    "\n",
    "team = team.drop_duplicates(subset = ['game_id', 'Team_Abbrev'])\n",
    "\n",
    "team = team.sort_values(by = 'Team_Abbrev')"
   ]
  },
  {
   "cell_type": "markdown",
   "id": "39acc0e8",
   "metadata": {},
   "source": [
    "### Wrangle Player Data\n",
    "\n",
    "Rinse and Repeat"
   ]
  },
  {
   "cell_type": "code",
   "execution_count": 6,
   "id": "fd0401a6",
   "metadata": {
    "scrolled": true
   },
   "outputs": [],
   "source": [
    "player = nba[['player','player_id','game_id','starter','mp','fg','fga','fg_pct','fg3','fg3a','fg3_pct','ft','fta','ft_pct','orb','drb','trb','ast','stl','blk','tov','pf','pts','plus_minus','did_not_play','is_inactive','ts_pct','efg_pct','fg3a_per_fga_pct','fta_per_fga_pct','orb_pct','drb_pct','trb_pct','ast_pct','stl_pct','blk_pct','tov_pct','usg_pct','off_rtg','def_rtg','bpm','minutes','double_double','triple_double','DKP','FDP','SDP','DKP_per_minute','FDP_per_minute','SDP_per_minute','pf_per_minute','ts','last_60_minutes_per_game_starting','last_60_minutes_per_game_bench','PG%','SG%','SF%','PF%','C%','active_position_minutes','season',]]\n",
    "\n",
    "player = player.drop_duplicates(subset = ['game_id', 'player_id'])\n",
    "\n",
    "player = player.sort_values(by = 'player')"
   ]
  },
  {
   "cell_type": "markdown",
   "id": "586baded",
   "metadata": {},
   "source": [
    "## Relationsip Table Wrangling"
   ]
  },
  {
   "cell_type": "code",
   "execution_count": 7,
   "id": "0a905bdd",
   "metadata": {},
   "outputs": [],
   "source": [
    "played_for = nba[['player_id', 'Team_Abbrev', 'season']].drop_duplicates(subset = ['Team_Abbrev', 'player_id'])"
   ]
  },
  {
   "cell_type": "markdown",
   "id": "f10243ff",
   "metadata": {},
   "source": [
    "## Upload all data to SQL"
   ]
  },
  {
   "cell_type": "code",
   "execution_count": 8,
   "id": "e62fa400",
   "metadata": {},
   "outputs": [],
   "source": [
    "# Upload the pandas df's to SQL.\n",
    "\n",
    "cursor.executemany('insert into Game values (?,?,?,?,?,?,?,?)', df_to_list(game))\n",
    "cursor.executemany('insert into Team values (?,?,?,?,?,?,?,?,?,?,?,?,?,?,?,?,?,?,?,?)', df_to_list(team))\n",
    "cursor.executemany('insert into Player values (?,?,?,?,?,?,?,?,?,?,?,?,?,?,?,?,?,?,?,?,?,?,?,?,?,?,?,?,?,?,?,?,?,?,?,?,?,?,?,?,?,?,?,?,?,?,?,?,?,?,?,?,?,?,?,?,?,?,?,?,?)', df_to_list(player))\n",
    "cursor.executemany('insert into plays_for values (?,?,?)', df_to_list(played_for))\n",
    "\n",
    "# Commit the changes to SQL\n",
    "\n",
    "cnn.commit()"
   ]
  },
  {
   "cell_type": "markdown",
   "id": "6ea0e68b",
   "metadata": {},
   "source": [
    "## Does free throw rate affect field goal percentage?\n",
    "\n",
    "Let's use this new ability to use SQL to make some new observations that we couldn't earlier. It seems like intuition to say that if someone is better at drawing fouls and shooting free throws, then he would usually be better at making shots. Let's see if this is true"
   ]
  },
  {
   "cell_type": "code",
   "execution_count": 9,
   "id": "4a6c0093",
   "metadata": {},
   "outputs": [],
   "source": [
    "cursor.execute('''\n",
    "SELECT player_name, AVG(fg_pct) fg_pct, AVG(fta) fta_pg, COUNT(*) num_games\n",
    "FROM player\n",
    "GROUP BY player_id\n",
    "HAVING num_games > 41\n",
    "ORDER BY fta_pg DESC ''')\n",
    "obs = pd.DataFrame(cursor.fetchall(), columns = ['name', 'fg%', 'fta_pg', 'games'])"
   ]
  },
  {
   "cell_type": "code",
   "execution_count": 10,
   "id": "ce808a93",
   "metadata": {},
   "outputs": [],
   "source": [
    "obs['avl'] = obs['games']/82"
   ]
  },
  {
   "cell_type": "code",
   "execution_count": 11,
   "id": "147b1c60",
   "metadata": {},
   "outputs": [
    {
     "data": {
      "image/png": "[encoded data removed]",
      "text/plain": [
       "<Figure size 432x288 with 1 Axes>"
      ]
     },
     "metadata": {
      "needs_background": "light"
     },
     "output_type": "display_data"
    }
   ],
   "source": [
    "sns.scatterplot(data=obs, x=\"fta_pg\", y=\"fg%\", alpha = 0.03)\n",
    "sns.regplot(data=obs, x=\"fta_pg\", y=\"fg%\", color = \"red\", scatter_kws={\"color\": \"black\"})\n",
    "plt.show()"
   ]
  },
  {
   "cell_type": "markdown",
   "id": "5780f7fc",
   "metadata": {},
   "source": [
    "## Do teams that shoot more 3-pointers win more games?\n",
    "\n",
    "Recently in the NBA, a sort of 3-pointer revolution has occured, where the teams with great long distance shooting are also the teams that perform the best. Let's see if this held true for the 2021 season:"
   ]
  },
  {
   "cell_type": "code",
   "execution_count": 12,
   "id": "fa8a45c4",
   "metadata": {},
   "outputs": [],
   "source": [
    "cursor.execute('''\n",
    "SELECT avg(pct_3pa) pct_3pa, AVG(fg3_pct) fg3_pct, Team_Abbrev, AVG(win) as won\n",
    "FROM team NATURAL JOIN (\n",
    "select avg(fg3a_per_fga_pct) pct_3pa, AVG(fg3_pct) fg3_pct, COUNT(*) num_games, Team_Abbrev\n",
    "FROM player NATURAL JOIN plays_for\n",
    "GROUP BY player_id\n",
    ")\n",
    "GROUP BY Team_Abbrev ''')\n",
    "obs = pd.DataFrame(cursor.fetchall(), columns = ['3pt_fg%', 'pct_fg_3pt', 'Team', 'win%'])"
   ]
  },
  {
   "cell_type": "code",
   "execution_count": 13,
   "id": "cb926145",
   "metadata": {},
   "outputs": [
    {
     "data": {
      "image/png": "[encoded data removed]",
      "text/plain": [
       "<Figure size 432x288 with 1 Axes>"
      ]
     },
     "metadata": {
      "needs_background": "light"
     },
     "output_type": "display_data"
    }
   ],
   "source": [
    "# Plot the number of 3 pointers shot vs. the win%\n",
    "\n",
    "sns.scatterplot(data = obs, x = 'pct_fg_3pt', y = 'win%')\n",
    "plt.show()"
   ]
  },
  {
   "cell_type": "code",
   "execution_count": 14,
   "id": "9fd03a9c",
   "metadata": {},
   "outputs": [
    {
     "data": {
      "image/png": "[encoded data removed]",
      "text/plain": [
       "<Figure size 432x288 with 1 Axes>"
      ]
     },
     "metadata": {
      "needs_background": "light"
     },
     "output_type": "display_data"
    }
   ],
   "source": [
    "# Plot the 3point%  vs. the win%\n",
    "sns.scatterplot(data = obs, x = '3pt_fg%', y = 'win%')\n",
    "plt.show()"
   ]
  },
  {
   "cell_type": "code",
   "execution_count": 15,
   "id": "1378d65a",
   "metadata": {},
   "outputs": [
    {
     "data": {
      "image/png": "[encoded data removed]",
      "text/plain": [
       "<Figure size 432x288 with 1 Axes>"
      ]
     },
     "metadata": {
      "needs_background": "light"
     },
     "output_type": "display_data"
    }
   ],
   "source": [
    "#combine\n",
    "sns.scatterplot(data = obs, x = '3pt_fg%', y = 'win%', hue = 'pct_fg_3pt')\n",
    "plt.show()"
   ]
  },
  {
   "cell_type": "markdown",
   "id": "2272c561",
   "metadata": {},
   "source": [
    "## Does free throw percentage correspond to a high 3 point percentage?\n",
    "\n",
    "This has been a commonly stated observation for a while: a high free throw percentage is usually a sign of a talented shooter. Let's see if this has any merit"
   ]
  },
  {
   "cell_type": "code",
   "execution_count": 29,
   "id": "b88ce9af",
   "metadata": {},
   "outputs": [],
   "source": [
    "cursor.execute('''\n",
    "SELECT player_name, avg(fg3_pct), avg(ft_pct)\n",
    "FROM Player\n",
    "GROUP BY player_id\n",
    "HAVING COUNT(*) > 20 AND avg(ft_pct) > 0.5 AND sum(fg3a) > 200 ''')\n",
    "obs = pd.DataFrame(cursor.fetchall(), columns = ['name', '3pt', 'ft'])"
   ]
  },
  {
   "cell_type": "code",
   "execution_count": 31,
   "id": "a87431c2",
   "metadata": {},
   "outputs": [
    {
     "data": {
      "text/plain": [
       "<AxesSubplot:xlabel='ft', ylabel='3pt'>"
      ]
     },
     "execution_count": 31,
     "metadata": {},
     "output_type": "execute_result"
    },
    {
     "data": {
      "image/png": "[encoded data removed]",
      "text/plain": [
       "<Figure size 432x288 with 1 Axes>"
      ]
     },
     "metadata": {
      "needs_background": "light"
     },
     "output_type": "display_data"
    }
   ],
   "source": [
    "sns.scatterplot(data = obs, x = 'ft', y = '3pt')\n",
    "sns.regplot(data = obs, x = 'ft', y = '3pt')"
   ]
  },
  {
   "cell_type": "code",
   "execution_count": 18,
   "id": "ca2c931d",
   "metadata": {},
   "outputs": [],
   "source": [
    "# Close the cursor and the connection\n",
    "\n",
    "cursor.close()\n",
    "cnn.close()"
   ]
  },
  {
   "cell_type": "code",
   "execution_count": null,
   "id": "6ef1508d",
   "metadata": {},
   "outputs": [],
   "source": []
  }
 ],
 "metadata": {
  "kernelspec": {
   "display_name": "Python 3",
   "language": "python",
   "name": "python3"
  },
  "language_info": {
   "codemirror_mode": {
    "name": "ipython",
    "version": 3
   },
   "file_extension": ".py",
   "mimetype": "text/x-python",
   "name": "python",
   "nbconvert_exporter": "python",
   "pygments_lexer": "ipython3",
   "version": "3.8.8"
  }
 },
 "nbformat": 4,
 "nbformat_minor": 5
}
